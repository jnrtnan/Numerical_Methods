{
  "nbformat": 4,
  "nbformat_minor": 0,
  "metadata": {
    "colab": {
      "name": "NM_FINALS_PROB3.ipynb",
      "provenance": [],
      "collapsed_sections": [],
      "authorship_tag": "ABX9TyMEhmkoXhFlycXlVowIrNmb",
      "include_colab_link": true
    },
    "kernelspec": {
      "name": "python3",
      "display_name": "Python 3"
    },
    "language_info": {
      "name": "python"
    }
  },
  "cells": [
    {
      "cell_type": "markdown",
      "metadata": {
        "id": "view-in-github",
        "colab_type": "text"
      },
      "source": [
        "<a href=\"https://colab.research.google.com/github/jnrtnan/Numerical_Methods_-58012/blob/main/NM_FINALS_PROB3.ipynb\" target=\"_parent\"><img src=\"https://colab.research.google.com/assets/colab-badge.svg\" alt=\"Open In Colab\"/></a>"
      ]
    },
    {
      "cell_type": "code",
      "execution_count": 6,
      "metadata": {
        "colab": {
          "base_uri": "https://localhost:8080/"
        },
        "id": "CFrUwMW7sQ-y",
        "outputId": "5fb0509a-2ec1-472f-e0c7-92e8d34af16d"
      },
      "outputs": [
        {
          "output_type": "stream",
          "name": "stdout",
          "text": [
            "Integral = -1.926169\n"
          ]
        }
      ],
      "source": [
        "## PROBLEM 3\n",
        "\n",
        "from math import exp\n",
        "\n",
        "def f(x): return exp(x)\n",
        "a=1\n",
        "b= -1\n",
        "n= 10\n",
        "h= (b-a)/n\n",
        "S=h*(f(a)+f(b))\n",
        "\n",
        "for i in range(1,n):\n",
        "    S = S+f(a+i*h)\n",
        "Integral=h*S\n",
        "print('Integral = %f' %Integral)"
      ]
    },
    {
      "cell_type": "code",
      "source": [
        ""
      ],
      "metadata": {
        "id": "AAPOJSV4smyi"
      },
      "execution_count": null,
      "outputs": []
    }
  ]
}
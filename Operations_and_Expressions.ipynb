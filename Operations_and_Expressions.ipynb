{
  "nbformat": 4,
  "nbformat_minor": 0,
  "metadata": {
    "colab": {
      "name": "Operations and Expressions.ipynb",
      "provenance": [],
      "collapsed_sections": [],
      "authorship_tag": "ABX9TyNgb51KqzJFR+qnQUKIFUGB",
      "include_colab_link": true
    },
    "kernelspec": {
      "name": "python3",
      "display_name": "Python 3"
    },
    "language_info": {
      "name": "python"
    }
  },
  "cells": [
    {
      "cell_type": "markdown",
      "metadata": {
        "id": "view-in-github",
        "colab_type": "text"
      },
      "source": [
        "<a href=\"https://colab.research.google.com/github/jnrtnan/Numerical_Methods/blob/main/Operations_and_Expressions.ipynb\" target=\"_parent\"><img src=\"https://colab.research.google.com/assets/colab-badge.svg\" alt=\"Open In Colab\"/></a>"
      ]
    },
    {
      "cell_type": "code",
      "source": [
        "a = 10 \n",
        "b = 9\n",
        "\n",
        "print(a>b)\n",
        "print(a<b)\n",
        "print(a==b)\n"
      ],
      "metadata": {
        "colab": {
          "base_uri": "https://localhost:8080/"
        },
        "id": "8XmcPMWAYRTT",
        "outputId": "8273f2f1-53a8-4fb8-e65f-80b36d3f88a7"
      },
      "execution_count": 16,
      "outputs": [
        {
          "output_type": "stream",
          "name": "stdout",
          "text": [
            "True\n",
            "False\n",
            "False\n"
          ]
        }
      ]
    },
    {
      "cell_type": "code",
      "source": [
        "print(bool(1))\n",
        "print(bool(0))\n",
        "print(bool(\"Joseph\"))\n",
        "print(bool(None))\n",
        "print(bool([]))\n"
      ],
      "metadata": {
        "colab": {
          "base_uri": "https://localhost:8080/"
        },
        "id": "ukgCuz1lZFJ-",
        "outputId": "f4ac7497-996c-46c4-f5f3-f154cfd54c23"
      },
      "execution_count": 4,
      "outputs": [
        {
          "output_type": "stream",
          "name": "stdout",
          "text": [
            "True\n",
            "False\n",
            "True\n",
            "False\n",
            "False\n"
          ]
        }
      ]
    },
    {
      "cell_type": "code",
      "source": [
        "##Functions can return a boolean\n",
        "\n",
        "def myFunction():\n",
        "  return False\n",
        "\n",
        "print(myFunction())\n",
        "\n",
        "if myFunction():\n",
        "  print(\"Yes!\")\n",
        "else:\n",
        "  print(\"No!\")\n"
      ],
      "metadata": {
        "colab": {
          "base_uri": "https://localhost:8080/"
        },
        "id": "XqBZh0OoZPYu",
        "outputId": "2cb70df2-a9b5-4e7e-99dd-d98b9f291b87"
      },
      "execution_count": 12,
      "outputs": [
        {
          "output_type": "stream",
          "name": "stdout",
          "text": [
            "False\n",
            "No!\n"
          ]
        }
      ]
    },
    {
      "cell_type": "code",
      "source": [
        "##Application 1\n",
        "\n",
        "print(10>9)\n",
        "\n",
        "c=6\n",
        "d=7\n",
        "\n",
        "print(a==b)\n",
        "print(a!=a)"
      ],
      "metadata": {
        "colab": {
          "base_uri": "https://localhost:8080/"
        },
        "id": "wBesQ3sLZp5j",
        "outputId": "186e15b8-4b22-47e7-f283-a4ab5cbbf93e"
      },
      "execution_count": 15,
      "outputs": [
        {
          "output_type": "stream",
          "name": "stdout",
          "text": [
            "True\n",
            "False\n",
            "False\n"
          ]
        }
      ]
    },
    {
      "cell_type": "code",
      "source": [
        "##Python Operators\n",
        "print(2+5)\n",
        "print(2-5)\n",
        "print(2*5)\n",
        "print(5/2)\n",
        "print(10%5)\n",
        "print(10//3)\n",
        "print(10**2)"
      ],
      "metadata": {
        "colab": {
          "base_uri": "https://localhost:8080/"
        },
        "id": "9o2NUZVVaZMU",
        "outputId": "580ee6fd-7e2b-4c6f-bf95-05665442ce4c"
      },
      "execution_count": 20,
      "outputs": [
        {
          "output_type": "stream",
          "name": "stdout",
          "text": [
            "7\n",
            "-3\n",
            "10\n",
            "2.5\n",
            "0\n",
            "3\n",
            "100\n"
          ]
        }
      ]
    },
    {
      "cell_type": "code",
      "source": [
        "##Python Bitwise Operators\n",
        "\n",
        "g = 60\n",
        "h = 13\n",
        "\n",
        "print(g&h)\n",
        "print(g|h)\n"
      ],
      "metadata": {
        "colab": {
          "base_uri": "https://localhost:8080/"
        },
        "id": "twhPGA_ua-Th",
        "outputId": "2a963468-1109-4a1c-d736-a46e55cb9355"
      },
      "execution_count": 23,
      "outputs": [
        {
          "output_type": "stream",
          "name": "stdout",
          "text": [
            "12\n",
            "61\n"
          ]
        }
      ]
    },
    {
      "cell_type": "code",
      "source": [
        "##Assignment Operators\n",
        "\n",
        "g+=3 #Same as g = g+3 \n",
        "print(g)"
      ],
      "metadata": {
        "colab": {
          "base_uri": "https://localhost:8080/"
        },
        "id": "muPm2t8hcbF-",
        "outputId": "eb0d4bda-ffb9-459f-aa7d-ae305c16e94a"
      },
      "execution_count": 36,
      "outputs": [
        {
          "output_type": "stream",
          "name": "stdout",
          "text": [
            "63\n"
          ]
        }
      ]
    },
    {
      "cell_type": "code",
      "source": [
        "##Logical Operators\n",
        "\n",
        "x = True\n",
        "y = False\n",
        "\n",
        "print(x and y)\n",
        "print(x or y)\n",
        "print(not(x and y))\n",
        "print(not(x or y))"
      ],
      "metadata": {
        "colab": {
          "base_uri": "https://localhost:8080/"
        },
        "id": "IulJyloBdm67",
        "outputId": "635fb22a-57e8-4e96-b5f4-f7783586dccf"
      },
      "execution_count": 43,
      "outputs": [
        {
          "output_type": "stream",
          "name": "stdout",
          "text": [
            "False\n",
            "True\n",
            "True\n",
            "False\n"
          ]
        }
      ]
    },
    {
      "cell_type": "code",
      "source": [
        "##Identity Operators\n",
        "\n",
        "print(x is y)\n",
        "print(x is x)\n",
        "print(x is not y)"
      ],
      "metadata": {
        "colab": {
          "base_uri": "https://localhost:8080/"
        },
        "id": "bxgUK6qBeCKR",
        "outputId": "41a656f2-7f91-4643-80ea-37b28864be9f"
      },
      "execution_count": 47,
      "outputs": [
        {
          "output_type": "stream",
          "name": "stdout",
          "text": [
            "False\n",
            "True\n",
            "True\n"
          ]
        }
      ]
    },
    {
      "cell_type": "code",
      "source": [
        ""
      ],
      "metadata": {
        "id": "i56EYUuGepu9"
      },
      "execution_count": null,
      "outputs": []
    }
  ]
}
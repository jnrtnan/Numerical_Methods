{
  "nbformat": 4,
  "nbformat_minor": 0,
  "metadata": {
    "colab": {
      "name": "Control and Loop Statements.ipynb",
      "provenance": [],
      "authorship_tag": "ABX9TyPxiPH5WcYPWDTRMpv/eiCm",
      "include_colab_link": true
    },
    "kernelspec": {
      "name": "python3",
      "display_name": "Python 3"
    },
    "language_info": {
      "name": "python"
    }
  },
  "cells": [
    {
      "cell_type": "markdown",
      "metadata": {
        "id": "view-in-github",
        "colab_type": "text"
      },
      "source": [
        "<a href=\"https://colab.research.google.com/github/jnrtnan/Numerical_Methods_-58012/blob/main/Control_and_Loop_Statements.ipynb\" target=\"_parent\"><img src=\"https://colab.research.google.com/assets/colab-badge.svg\" alt=\"Open In Colab\"/></a>"
      ]
    },
    {
      "cell_type": "code",
      "execution_count": 1,
      "metadata": {
        "colab": {
          "base_uri": "https://localhost:8080/"
        },
        "id": "c8yKuEE6qtFK",
        "outputId": "6fc57026-81bf-4cd0-af0f-4c9ba05ebbb8"
      },
      "outputs": [
        {
          "output_type": "stream",
          "name": "stdout",
          "text": [
            "b is greater than a\n"
          ]
        }
      ],
      "source": [
        "##If Statement\n",
        "\n",
        "a = 12 \n",
        "b = 100\n",
        "if b>a:\n",
        "  print(\"b is greater than a\")\n",
        "  "
      ]
    },
    {
      "cell_type": "code",
      "source": [
        "a = 100\n",
        "b = 10\n",
        "\n",
        "if b>a:\n",
        "  print(\"b is greater than a\")\n",
        "elif a==b:\n",
        "  print(\"a and b are equal\")"
      ],
      "metadata": {
        "id": "0isEI7iDq6iN"
      },
      "execution_count": 4,
      "outputs": []
    },
    {
      "cell_type": "code",
      "source": [
        "##Else Statement\n",
        "\n",
        "if b>a:\n",
        "  print(\"b is greater than a\")\n",
        "elif a==b:\n",
        "  print(\"a and b are equal\")\n",
        "else:\n",
        "  print(\"a is greater than b\")"
      ],
      "metadata": {
        "colab": {
          "base_uri": "https://localhost:8080/"
        },
        "id": "tjQFp3aHrE4a",
        "outputId": "02c2294d-aebc-44de-a7bf-739289067420"
      },
      "execution_count": 5,
      "outputs": [
        {
          "output_type": "stream",
          "name": "stdout",
          "text": [
            "a is greater than b\n"
          ]
        }
      ]
    },
    {
      "cell_type": "code",
      "source": [
        "##Short Hand If Statement\n",
        "\n",
        "if a>b:print(\"a is greater than b\")"
      ],
      "metadata": {
        "colab": {
          "base_uri": "https://localhost:8080/"
        },
        "id": "8LK_OqD3rW0j",
        "outputId": "ba065c71-c555-4f42-a6e3-942e9200907c"
      },
      "execution_count": 6,
      "outputs": [
        {
          "output_type": "stream",
          "name": "stdout",
          "text": [
            "a is greater than b\n"
          ]
        }
      ]
    },
    {
      "cell_type": "code",
      "source": [
        "##Short Hand If Statement.. Else Statement \n",
        "print(\"b is greater than a\") if b>a else print(\"a is graeter than b\")"
      ],
      "metadata": {
        "colab": {
          "base_uri": "https://localhost:8080/"
        },
        "id": "YKntZiVsrsC8",
        "outputId": "8c54cba5-f034-4c23-8d43-7bd9016445a3"
      },
      "execution_count": 10,
      "outputs": [
        {
          "output_type": "stream",
          "name": "stdout",
          "text": [
            "a is graeter than b\n"
          ]
        }
      ]
    },
    {
      "cell_type": "code",
      "source": [
        "##And - if both conditions are true\n",
        "\n",
        "a = 100\n",
        "b = 10\n",
        "c = 45\n",
        "\n",
        "if a>b and c>b:\n",
        "  print(\"Both conditions are true\")"
      ],
      "metadata": {
        "colab": {
          "base_uri": "https://localhost:8080/"
        },
        "id": "uNFLeknXsIkY",
        "outputId": "6e117465-90bd-4c73-95d2-9f293044139f"
      },
      "execution_count": 16,
      "outputs": [
        {
          "output_type": "stream",
          "name": "stdout",
          "text": [
            "Both conditions are true\n"
          ]
        }
      ]
    },
    {
      "cell_type": "code",
      "source": [
        "##Or - if one of the conditions are true\n",
        "if a>b or b>c:\n",
        "  print(\"one of the conditions are true\")"
      ],
      "metadata": {
        "colab": {
          "base_uri": "https://localhost:8080/"
        },
        "id": "Ui6CstNCsl22",
        "outputId": "065968e7-e26f-4228-9393-25b56dc2d200"
      },
      "execution_count": 14,
      "outputs": [
        {
          "output_type": "stream",
          "name": "stdout",
          "text": [
            "one of the conditions are true\n"
          ]
        }
      ]
    },
    {
      "cell_type": "code",
      "source": [
        "##Nested if\n",
        "\n",
        "x = int(input())\n",
        "\n",
        "if x > 10:\n",
        "  print(\"x is Above ten,\")\n",
        "\n",
        "  if x > 20:\n",
        "    print(\"x is Also above 20,\")\n",
        "\n",
        "    if x > 30:\n",
        "      print(\"x is Also above 30!\")\n",
        "\n",
        "      if x > 40:\n",
        "        print(\"x is Also above 40!\")\n",
        "\n",
        "        if x>50:\n",
        "          print(\"x is also above 50\")\n",
        "\n",
        "else:\n",
        "  print(\"x is below 10\")"
      ],
      "metadata": {
        "colab": {
          "base_uri": "https://localhost:8080/"
        },
        "id": "SKKqhAeOswMS",
        "outputId": "41b00921-fc3e-45ab-834d-a76f1194c482"
      },
      "execution_count": 25,
      "outputs": [
        {
          "output_type": "stream",
          "name": "stdout",
          "text": [
            "80000\n",
            "x is Above ten,\n",
            "x is Also above 20,\n",
            "x is Also above 30!\n",
            "x is Also above 40!\n",
            "x is also above 50\n"
          ]
        }
      ]
    },
    {
      "cell_type": "code",
      "source": [
        " ##Application 1\n",
        "\n",
        " student_age = int(input())\n",
        "\n",
        " if student_age>=18:\n",
        "   print(\"You are qualified to vote!\")\n",
        "else:\n",
        "  print(\"You are not qualified to vote!\")"
      ],
      "metadata": {
        "colab": {
          "base_uri": "https://localhost:8080/"
        },
        "id": "rv0XKo98tJMo",
        "outputId": "ff5251a3-1222-4fa2-d421-fd8ee68ac292"
      },
      "execution_count": 29,
      "outputs": [
        {
          "output_type": "stream",
          "name": "stdout",
          "text": [
            "2\n",
            "You are not qualified to vote!\n"
          ]
        }
      ]
    },
    {
      "cell_type": "code",
      "source": [
        "##Application 2\n",
        "\n",
        "number = int(input())\n",
        "\n",
        "if number>0:\n",
        "  print(\"Positive number\")\n",
        "\n",
        "if number==0:\n",
        "  print(\"Number is zero\")\n",
        "\n",
        "if number<0:\n",
        "  print(\"Number is negative\")\n"
      ],
      "metadata": {
        "colab": {
          "base_uri": "https://localhost:8080/"
        },
        "id": "d0HdIJwBunC7",
        "outputId": "68c02bcb-d5a8-4895-d7e2-3603ec2096e7"
      },
      "execution_count": 34,
      "outputs": [
        {
          "output_type": "stream",
          "name": "stdout",
          "text": [
            "2\n",
            "Positive number\n"
          ]
        }
      ]
    },
    {
      "cell_type": "code",
      "source": [
        "##Application 3\n",
        "\n",
        "grade = int(input())\n",
        "\n",
        "if grade>=70:\n",
        "  print(\"Passed\")\n",
        "elif grade in range(64,69):\n",
        "  print(\"Remedial\")\n",
        "elif grade<69:\n",
        "  print(\"Failed\")\n"
      ],
      "metadata": {
        "colab": {
          "base_uri": "https://localhost:8080/"
        },
        "id": "Qwz9orFDvIaj",
        "outputId": "340301ae-427d-42a6-d230-b98bffe6417e"
      },
      "execution_count": 40,
      "outputs": [
        {
          "output_type": "stream",
          "name": "stdout",
          "text": [
            "65\n",
            "Remedial\n"
          ]
        }
      ]
    },
    {
      "cell_type": "code",
      "source": [
        "##For Loop\n",
        "\n",
        "week = [\"Sunday\",\"Monday\",\"Tuesday\",\"Wednesday\",\"Thursday\",\"Friday\",\"Saturday\"]\n",
        "\n"
      ],
      "metadata": {
        "colab": {
          "base_uri": "https://localhost:8080/"
        },
        "id": "gUOq3x-mvsD0",
        "outputId": "91612142-55a9-4251-eb45-b86f0b33ec83"
      },
      "execution_count": 42,
      "outputs": [
        {
          "output_type": "stream",
          "name": "stdout",
          "text": [
            "['Sunday', 'Monday', 'Tuesday', 'Wednesday', 'Thursday', 'Friday', 'Saturday']\n"
          ]
        }
      ]
    },
    {
      "cell_type": "code",
      "source": [
        "for x in week:\n",
        "  print(x)\n",
        "\n",
        "  if x ==\"Friday\":\n",
        "    break"
      ],
      "metadata": {
        "colab": {
          "base_uri": "https://localhost:8080/"
        },
        "id": "KzZrlre6xbo9",
        "outputId": "f6c83252-15c2-4c66-c1a8-a93331c3dd27"
      },
      "execution_count": 44,
      "outputs": [
        {
          "output_type": "stream",
          "name": "stdout",
          "text": [
            "Sunday\n",
            "Monday\n",
            "Tuesday\n",
            "Wednesday\n",
            "Thursday\n",
            "Friday\n"
          ]
        }
      ]
    },
    {
      "cell_type": "code",
      "source": [
        "##Looping through a String\n",
        "\n",
        "for x in \"week\":\n",
        "  print(x)"
      ],
      "metadata": {
        "colab": {
          "base_uri": "https://localhost:8080/"
        },
        "id": "Q3xAPep1xnjk",
        "outputId": "dcb62d0b-99cf-47f9-9d9a-877e3be0affd"
      },
      "execution_count": 46,
      "outputs": [
        {
          "output_type": "stream",
          "name": "stdout",
          "text": [
            "w\n",
            "e\n",
            "e\n",
            "k\n"
          ]
        }
      ]
    },
    {
      "cell_type": "code",
      "source": [
        "##Range() Function\n",
        "for x in range(6):\n",
        "  print(x)\n",
        "\n",
        "\n",
        "for x in range(2,6):\n",
        "  print(x)  "
      ],
      "metadata": {
        "colab": {
          "base_uri": "https://localhost:8080/"
        },
        "id": "dUxFheN1x2QK",
        "outputId": "4aa53f46-df78-424f-97c4-6a7c8ce1598e"
      },
      "execution_count": 59,
      "outputs": [
        {
          "output_type": "stream",
          "name": "stdout",
          "text": [
            "0\n",
            "1\n",
            "2\n",
            "3\n",
            "4\n",
            "5\n",
            "2\n",
            "3\n",
            "4\n",
            "5\n"
          ]
        }
      ]
    },
    {
      "cell_type": "code",
      "source": [
        "##While loop\n",
        "\n",
        "i = 1\n",
        "\n",
        "while i<=15:\n",
        "  print(i)\n",
        "  i+=1"
      ],
      "metadata": {
        "colab": {
          "base_uri": "https://localhost:8080/"
        },
        "id": "lUqNhgphyYUv",
        "outputId": "cd4f93aa-2d78-420f-bc26-63e1aff1319e"
      },
      "execution_count": 62,
      "outputs": [
        {
          "output_type": "stream",
          "name": "stdout",
          "text": [
            "1\n",
            "2\n",
            "3\n",
            "4\n",
            "5\n",
            "6\n",
            "7\n",
            "8\n",
            "9\n",
            "10\n",
            "11\n",
            "12\n",
            "13\n",
            "14\n",
            "15\n"
          ]
        }
      ]
    },
    {
      "cell_type": "code",
      "source": [
        "##While break \n",
        "i = 1\n",
        "\n",
        "while i<=15:\n",
        "  print(i)\n",
        "  if i ==3:\n",
        "    break\n",
        "  i+=1"
      ],
      "metadata": {
        "colab": {
          "base_uri": "https://localhost:8080/"
        },
        "id": "IDOb8f9_y_1D",
        "outputId": "0b71ac4f-7078-42ed-b064-a2a17e49ca8c"
      },
      "execution_count": 63,
      "outputs": [
        {
          "output_type": "stream",
          "name": "stdout",
          "text": [
            "1\n",
            "2\n",
            "3\n"
          ]
        }
      ]
    },
    {
      "cell_type": "code",
      "source": [
        "##While continue\n",
        "i = 0\n",
        "\n",
        "while i<15:\n",
        "  i+=1\n",
        "  if i ==3:\n",
        "    continue\n",
        "  print(i)"
      ],
      "metadata": {
        "colab": {
          "base_uri": "https://localhost:8080/"
        },
        "id": "7LwV_YYyzZZl",
        "outputId": "212adbac-39d8-4063-be8d-039ec184a3c8"
      },
      "execution_count": 67,
      "outputs": [
        {
          "output_type": "stream",
          "name": "stdout",
          "text": [
            "1\n",
            "2\n",
            "4\n",
            "5\n",
            "6\n",
            "7\n",
            "8\n",
            "9\n",
            "10\n",
            "11\n",
            "12\n",
            "13\n",
            "14\n",
            "15\n"
          ]
        }
      ]
    },
    {
      "cell_type": "code",
      "source": [
        ""
      ],
      "metadata": {
        "id": "JVEYIYza0IzJ"
      },
      "execution_count": null,
      "outputs": []
    }
  ]
}